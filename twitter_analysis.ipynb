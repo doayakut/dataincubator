{
 "cells": [
  {
   "cell_type": "markdown",
   "metadata": {},
   "source": [
    "This notebook explores the tweets that official United States Congress member accounts sent from July 21 to October 27, 2017. It merges [tweet data](https://github.com/alexlitel/congresstweets) with [Congress members data](https://github.com/unitedstates/congress-legislators) which contains members' state, political party affiliation and official Twitter handles."
   ]
  },
  {
   "cell_type": "markdown",
   "metadata": {},
   "source": [
    "Let's start with importing necessary python libraries"
   ]
  },
  {
   "cell_type": "code",
   "execution_count": 1,
   "metadata": {
    "collapsed": true
   },
   "outputs": [],
   "source": [
    "import matplotlib.pyplot as plt\n",
    "%matplotlib inline  \n",
    "\n",
    "import pandas as pd\n",
    "\n",
    "from tqdm import tqdm  \n",
    "tqdm.pandas(desc=\"my bar!\")"
   ]
  },
  {
   "cell_type": "markdown",
   "metadata": {},
   "source": [
    "Let's load tweets from json files (one per day) to the notebook. There are almost 200,000 tweets sent in the last two month by official Congress member accounts."
   ]
  },
  {
   "cell_type": "code",
   "execution_count": 2,
   "metadata": {
    "collapsed": false,
    "scrolled": false
   },
   "outputs": [
    {
     "name": "stdout",
     "output_type": "stream",
     "text": [
      "178739\n"
     ]
    }
   ],
   "source": [
    "# Load tweets\n",
    "import glob\n",
    "tweets = pd.concat(pd.read_json(f) for f in glob.glob('tweets/*.json'))\n",
    "tweets.head()\n",
    "\n",
    "print len(tweets)"
   ]
  },
  {
   "cell_type": "markdown",
   "metadata": {},
   "source": [
    "We are going to analyze the content of each tweet and perform some basic sentiment analysis on whether the tweet is positive, negative or neutral. For sentiment analysis, we use Python natural language processing library [Textblob](https://textblob.readthedocs.io/en/dev/), after cleaning the tweets (ie. removing links, special characters, etc.)."
   ]
  },
  {
   "cell_type": "code",
   "execution_count": 3,
   "metadata": {
    "collapsed": false,
    "scrolled": true
   },
   "outputs": [
    {
     "name": "stderr",
     "output_type": "stream",
     "text": [
      "my bar!: 100%|██████████| 178739/178739 [00:46<00:00, 3876.72it/s]\n"
     ]
    }
   ],
   "source": [
    "# sentiment analysis \n",
    "from textblob import TextBlob\n",
    "import re\n",
    "def clean_tweet(tweet):\n",
    "    return ' '.join(re.sub(\"(@[A-Za-z0-9]+)|([^0-9A-Za-z \\t])|(\\w+:\\/\\/\\S+)\", \" \", tweet).split())\n",
    " \n",
    "def get_tweet_sentiment(tweet):\n",
    "    # create TextBlob object of passed tweet text\n",
    "    analysis = TextBlob(clean_tweet(tweet))\n",
    "    # set sentiment\n",
    "    if analysis.sentiment.polarity > 0:\n",
    "        return 'positive'\n",
    "    elif analysis.sentiment.polarity == 0:\n",
    "        return 'neutral'\n",
    "    else:\n",
    "        return 'negative'\n",
    "    \n",
    "tweets['sentiment'] = tweets.progress_apply(lambda t: get_tweet_sentiment(t['text']), axis=1)\n",
    "\n"
   ]
  },
  {
   "cell_type": "markdown",
   "metadata": {},
   "source": [
    "This is what tweets data look like"
   ]
  },
  {
   "cell_type": "code",
   "execution_count": 4,
   "metadata": {
    "collapsed": false
   },
   "outputs": [
    {
     "data": {
      "text/html": [
       "<div>\n",
       "<table border=\"1\" class=\"dataframe\">\n",
       "  <thead>\n",
       "    <tr style=\"text-align: right;\">\n",
       "      <th></th>\n",
       "      <th>id</th>\n",
       "      <th>link</th>\n",
       "      <th>screen_name</th>\n",
       "      <th>source</th>\n",
       "      <th>text</th>\n",
       "      <th>time</th>\n",
       "      <th>user_id</th>\n",
       "      <th>sentiment</th>\n",
       "    </tr>\n",
       "  </thead>\n",
       "  <tbody>\n",
       "    <tr>\n",
       "      <th>0</th>\n",
       "      <td>888247233027739648</td>\n",
       "      <td>https://www.twitter.com/RepKevinYoder/statuses...</td>\n",
       "      <td>HouseHomeland</td>\n",
       "      <td>Twitter Web Client</td>\n",
       "      <td>RT @RepKevinYoder Along with last week's passa...</td>\n",
       "      <td>2017-07-21T00:00:17-04:00</td>\n",
       "      <td>239964567</td>\n",
       "      <td>neutral</td>\n",
       "    </tr>\n",
       "    <tr>\n",
       "      <th>1</th>\n",
       "      <td>888262367133351936</td>\n",
       "      <td>https://www.twitter.com/tedlieu/statuses/88826...</td>\n",
       "      <td>tedlieu</td>\n",
       "      <td>Twitter for Android</td>\n",
       "      <td>Fun fact: @realDonaldTrump cannot pardon himse...</td>\n",
       "      <td>2017-07-21T01:00:26-04:00</td>\n",
       "      <td>21059255</td>\n",
       "      <td>positive</td>\n",
       "    </tr>\n",
       "    <tr>\n",
       "      <th>2</th>\n",
       "      <td>888255408690806784</td>\n",
       "      <td>https://www.twitter.com/DrewPetrimoulx/statuse...</td>\n",
       "      <td>RepCohen</td>\n",
       "      <td>Twitter for iPad</td>\n",
       "      <td>RT @DrewPetrimoulx \"Every day I have to cry......</td>\n",
       "      <td>2017-07-21T00:32:47-04:00</td>\n",
       "      <td>162069635</td>\n",
       "      <td>neutral</td>\n",
       "    </tr>\n",
       "    <tr>\n",
       "      <th>3</th>\n",
       "      <td>888252697031331840</td>\n",
       "      <td>https://www.twitter.com/BigRed_STL/statuses/88...</td>\n",
       "      <td>auctnr1</td>\n",
       "      <td>Twitter for iPhone</td>\n",
       "      <td>RT @BigRed_STL 1974 at the Yale Bowl. #STLCard...</td>\n",
       "      <td>2017-07-21T00:22:00-04:00</td>\n",
       "      <td>21572351</td>\n",
       "      <td>neutral</td>\n",
       "    </tr>\n",
       "    <tr>\n",
       "      <th>4</th>\n",
       "      <td>888252666387734528</td>\n",
       "      <td>https://www.twitter.com/BigRed_STL/statuses/88...</td>\n",
       "      <td>auctnr1</td>\n",
       "      <td>Twitter for iPhone</td>\n",
       "      <td>RT @BigRed_STL How many of you went to this pl...</td>\n",
       "      <td>2017-07-21T00:21:53-04:00</td>\n",
       "      <td>21572351</td>\n",
       "      <td>positive</td>\n",
       "    </tr>\n",
       "  </tbody>\n",
       "</table>\n",
       "</div>"
      ],
      "text/plain": [
       "                   id                                               link  \\\n",
       "0  888247233027739648  https://www.twitter.com/RepKevinYoder/statuses...   \n",
       "1  888262367133351936  https://www.twitter.com/tedlieu/statuses/88826...   \n",
       "2  888255408690806784  https://www.twitter.com/DrewPetrimoulx/statuse...   \n",
       "3  888252697031331840  https://www.twitter.com/BigRed_STL/statuses/88...   \n",
       "4  888252666387734528  https://www.twitter.com/BigRed_STL/statuses/88...   \n",
       "\n",
       "     screen_name               source  \\\n",
       "0  HouseHomeland   Twitter Web Client   \n",
       "1        tedlieu  Twitter for Android   \n",
       "2       RepCohen     Twitter for iPad   \n",
       "3        auctnr1   Twitter for iPhone   \n",
       "4        auctnr1   Twitter for iPhone   \n",
       "\n",
       "                                                text  \\\n",
       "0  RT @RepKevinYoder Along with last week's passa...   \n",
       "1  Fun fact: @realDonaldTrump cannot pardon himse...   \n",
       "2  RT @DrewPetrimoulx \"Every day I have to cry......   \n",
       "3  RT @BigRed_STL 1974 at the Yale Bowl. #STLCard...   \n",
       "4  RT @BigRed_STL How many of you went to this pl...   \n",
       "\n",
       "                        time    user_id sentiment  \n",
       "0  2017-07-21T00:00:17-04:00  239964567   neutral  \n",
       "1  2017-07-21T01:00:26-04:00   21059255  positive  \n",
       "2  2017-07-21T00:32:47-04:00  162069635   neutral  \n",
       "3  2017-07-21T00:22:00-04:00   21572351   neutral  \n",
       "4  2017-07-21T00:21:53-04:00   21572351  positive  "
      ]
     },
     "execution_count": 4,
     "metadata": {},
     "output_type": "execute_result"
    }
   ],
   "source": [
    "tweets.head()"
   ]
  },
  {
   "cell_type": "markdown",
   "metadata": {},
   "source": [
    "The next step is to load and merge [legislator data](https://github.com/unitedstates/congress-legislators) which contains data in multiple tables for current members of Congress such as their state, party affiliation, Twitter and other social media accounts and their term information."
   ]
  },
  {
   "cell_type": "code",
   "execution_count": 5,
   "metadata": {
    "collapsed": false
   },
   "outputs": [
    {
     "data": {
      "text/html": [
       "<div>\n",
       "<table border=\"1\" class=\"dataframe\">\n",
       "  <thead>\n",
       "    <tr style=\"text-align: right;\">\n",
       "      <th></th>\n",
       "      <th>id.bioguide</th>\n",
       "      <th>id.govtrack</th>\n",
       "      <th>id.thomas</th>\n",
       "      <th>offices</th>\n",
       "    </tr>\n",
       "  </thead>\n",
       "  <tbody>\n",
       "    <tr>\n",
       "      <th>0</th>\n",
       "      <td>A000055</td>\n",
       "      <td>400004</td>\n",
       "      <td>01460</td>\n",
       "      <td>[{u'city': u'Cullman', u'zip': u'35055', u'lon...</td>\n",
       "    </tr>\n",
       "    <tr>\n",
       "      <th>1</th>\n",
       "      <td>A000360</td>\n",
       "      <td>300002</td>\n",
       "      <td>01695</td>\n",
       "      <td>[{u'building': u'Tri-Cities Regional Airport',...</td>\n",
       "    </tr>\n",
       "    <tr>\n",
       "      <th>2</th>\n",
       "      <td>A000367</td>\n",
       "      <td>412438</td>\n",
       "      <td>02029</td>\n",
       "      <td>[{u'city': u'Battle Creek', u'zip': u'49017', ...</td>\n",
       "    </tr>\n",
       "    <tr>\n",
       "      <th>3</th>\n",
       "      <td>A000369</td>\n",
       "      <td>412500</td>\n",
       "      <td>02090</td>\n",
       "      <td>[{u'city': u'Elko', u'fax': u'775-753-9984', u...</td>\n",
       "    </tr>\n",
       "    <tr>\n",
       "      <th>4</th>\n",
       "      <td>A000370</td>\n",
       "      <td>412607</td>\n",
       "      <td>02201</td>\n",
       "      <td>[{u'city': u'Charlotte', u'fax': u'704-344-997...</td>\n",
       "    </tr>\n",
       "  </tbody>\n",
       "</table>\n",
       "</div>"
      ],
      "text/plain": [
       "  id.bioguide  id.govtrack id.thomas  \\\n",
       "0     A000055       400004     01460   \n",
       "1     A000360       300002     01695   \n",
       "2     A000367       412438     02029   \n",
       "3     A000369       412500     02090   \n",
       "4     A000370       412607     02201   \n",
       "\n",
       "                                             offices  \n",
       "0  [{u'city': u'Cullman', u'zip': u'35055', u'lon...  \n",
       "1  [{u'building': u'Tri-Cities Regional Airport',...  \n",
       "2  [{u'city': u'Battle Creek', u'zip': u'49017', ...  \n",
       "3  [{u'city': u'Elko', u'fax': u'775-753-9984', u...  \n",
       "4  [{u'city': u'Charlotte', u'fax': u'704-344-997...  "
      ]
     },
     "execution_count": 5,
     "metadata": {},
     "output_type": "execute_result"
    }
   ],
   "source": [
    "import yaml\n",
    "with open('legislators/legislators-district-offices.yaml', 'r') as f:\n",
    "    districts = pd.io.json.json_normalize(yaml.load(f))\n",
    "districts.head()"
   ]
  },
  {
   "cell_type": "code",
   "execution_count": 6,
   "metadata": {
    "collapsed": false
   },
   "outputs": [
    {
     "data": {
      "text/html": [
       "<div>\n",
       "<table border=\"1\" class=\"dataframe\">\n",
       "  <thead>\n",
       "    <tr style=\"text-align: right;\">\n",
       "      <th></th>\n",
       "      <th>id.bioguide</th>\n",
       "      <th>id.govtrack</th>\n",
       "      <th>id.thomas</th>\n",
       "      <th>social.facebook</th>\n",
       "      <th>social.instagram</th>\n",
       "      <th>social.instagram_id</th>\n",
       "      <th>social.twitter</th>\n",
       "      <th>social.twitter_id</th>\n",
       "      <th>social.youtube</th>\n",
       "      <th>social.youtube_id</th>\n",
       "    </tr>\n",
       "  </thead>\n",
       "  <tbody>\n",
       "    <tr>\n",
       "      <th>0</th>\n",
       "      <td>R000600</td>\n",
       "      <td>412664</td>\n",
       "      <td>02222</td>\n",
       "      <td>aumuaamata</td>\n",
       "      <td>NaN</td>\n",
       "      <td>NaN</td>\n",
       "      <td>RepAmata</td>\n",
       "      <td>3026622545</td>\n",
       "      <td>NaN</td>\n",
       "      <td>UCGdrLQbt1PYDTPsampx4t1A</td>\n",
       "    </tr>\n",
       "    <tr>\n",
       "      <th>1</th>\n",
       "      <td>Y000064</td>\n",
       "      <td>412428</td>\n",
       "      <td>02019</td>\n",
       "      <td>SenatorToddYoung</td>\n",
       "      <td>sentoddyoung</td>\n",
       "      <td>NaN</td>\n",
       "      <td>SenToddYoung</td>\n",
       "      <td>234128524</td>\n",
       "      <td>RepToddYoung</td>\n",
       "      <td>UCuknj4PGn91gHDNAfboZEgQ</td>\n",
       "    </tr>\n",
       "    <tr>\n",
       "      <th>2</th>\n",
       "      <td>E000295</td>\n",
       "      <td>412667</td>\n",
       "      <td>02283</td>\n",
       "      <td>senjoniernst</td>\n",
       "      <td>senjoniernst</td>\n",
       "      <td>1582702853</td>\n",
       "      <td>SenJoniErnst</td>\n",
       "      <td>2856787757</td>\n",
       "      <td>NaN</td>\n",
       "      <td>UCLwrmtF_84FIcK3TyMs4MIw</td>\n",
       "    </tr>\n",
       "    <tr>\n",
       "      <th>3</th>\n",
       "      <td>T000476</td>\n",
       "      <td>412668</td>\n",
       "      <td>02291</td>\n",
       "      <td>SenatorThomTillis</td>\n",
       "      <td>senthomtillis</td>\n",
       "      <td>NaN</td>\n",
       "      <td>senthomtillis</td>\n",
       "      <td>2964174789</td>\n",
       "      <td>NaN</td>\n",
       "      <td>UCUD9VGV4SSGWjGdbn37Ea2w</td>\n",
       "    </tr>\n",
       "    <tr>\n",
       "      <th>4</th>\n",
       "      <td>Y000063</td>\n",
       "      <td>412430</td>\n",
       "      <td>02021</td>\n",
       "      <td>CongressmanKevinYoder</td>\n",
       "      <td>repkevinyoder</td>\n",
       "      <td>NaN</td>\n",
       "      <td>RepKevinYoder</td>\n",
       "      <td>252819642</td>\n",
       "      <td>RepYoder</td>\n",
       "      <td>UCCeYmn4A8kZEHCcAfeUW9lQ</td>\n",
       "    </tr>\n",
       "  </tbody>\n",
       "</table>\n",
       "</div>"
      ],
      "text/plain": [
       "  id.bioguide  id.govtrack id.thomas        social.facebook social.instagram  \\\n",
       "0     R000600       412664     02222             aumuaamata              NaN   \n",
       "1     Y000064       412428     02019       SenatorToddYoung     sentoddyoung   \n",
       "2     E000295       412667     02283           senjoniernst     senjoniernst   \n",
       "3     T000476       412668     02291      SenatorThomTillis    senthomtillis   \n",
       "4     Y000063       412430     02021  CongressmanKevinYoder    repkevinyoder   \n",
       "\n",
       "   social.instagram_id social.twitter  social.twitter_id social.youtube  \\\n",
       "0                  NaN       RepAmata         3026622545            NaN   \n",
       "1                  NaN   SenToddYoung          234128524   RepToddYoung   \n",
       "2           1582702853   SenJoniErnst         2856787757            NaN   \n",
       "3                  NaN  senthomtillis         2964174789            NaN   \n",
       "4                  NaN  RepKevinYoder          252819642       RepYoder   \n",
       "\n",
       "          social.youtube_id  \n",
       "0  UCGdrLQbt1PYDTPsampx4t1A  \n",
       "1  UCuknj4PGn91gHDNAfboZEgQ  \n",
       "2  UCLwrmtF_84FIcK3TyMs4MIw  \n",
       "3  UCUD9VGV4SSGWjGdbn37Ea2w  \n",
       "4  UCCeYmn4A8kZEHCcAfeUW9lQ  "
      ]
     },
     "execution_count": 6,
     "metadata": {},
     "output_type": "execute_result"
    }
   ],
   "source": [
    "import yaml\n",
    "\n",
    "with open('legislators/legislators-social-media.yaml', 'r') as f:\n",
    "    social = pd.io.json.json_normalize(yaml.load(f))\n",
    "social.head()"
   ]
  },
  {
   "cell_type": "code",
   "execution_count": 7,
   "metadata": {
    "collapsed": false,
    "scrolled": false
   },
   "outputs": [
    {
     "data": {
      "text/html": [
       "<div>\n",
       "<table border=\"1\" class=\"dataframe\">\n",
       "  <thead>\n",
       "    <tr style=\"text-align: right;\">\n",
       "      <th></th>\n",
       "      <th>bio.birthday</th>\n",
       "      <th>bio.gender</th>\n",
       "      <th>bio.religion</th>\n",
       "      <th>family</th>\n",
       "      <th>id.ballotpedia</th>\n",
       "      <th>id.bioguide</th>\n",
       "      <th>id.cspan</th>\n",
       "      <th>id.fec</th>\n",
       "      <th>id.google_entity_id</th>\n",
       "      <th>id.govtrack_x</th>\n",
       "      <th>...</th>\n",
       "      <th>social.facebook</th>\n",
       "      <th>social.instagram</th>\n",
       "      <th>social.instagram_id</th>\n",
       "      <th>social.twitter</th>\n",
       "      <th>social.twitter_id</th>\n",
       "      <th>social.youtube</th>\n",
       "      <th>social.youtube_id</th>\n",
       "      <th>id.govtrack</th>\n",
       "      <th>id.thomas</th>\n",
       "      <th>offices</th>\n",
       "    </tr>\n",
       "  </thead>\n",
       "  <tbody>\n",
       "    <tr>\n",
       "      <th>0</th>\n",
       "      <td>1952-11-09</td>\n",
       "      <td>M</td>\n",
       "      <td>Lutheran</td>\n",
       "      <td>NaN</td>\n",
       "      <td>Sherrod Brown</td>\n",
       "      <td>B000944</td>\n",
       "      <td>5051</td>\n",
       "      <td>[H2OH13033, S6OH00163]</td>\n",
       "      <td>kg:/m/034s80</td>\n",
       "      <td>400050</td>\n",
       "      <td>...</td>\n",
       "      <td>SenatorSherrodBrown</td>\n",
       "      <td>NaN</td>\n",
       "      <td>NaN</td>\n",
       "      <td>SenSherrodBrown</td>\n",
       "      <td>43910797</td>\n",
       "      <td>SherrodBrownOhio</td>\n",
       "      <td>UCgy8jfERh-t_ixkKKoCmglQ</td>\n",
       "      <td>400050</td>\n",
       "      <td>00136</td>\n",
       "      <td>[{u'city': u'Cincinnati', u'fax': u'513-684-10...</td>\n",
       "    </tr>\n",
       "    <tr>\n",
       "      <th>1</th>\n",
       "      <td>1958-10-13</td>\n",
       "      <td>F</td>\n",
       "      <td>Roman Catholic</td>\n",
       "      <td>NaN</td>\n",
       "      <td>Maria Cantwell</td>\n",
       "      <td>C000127</td>\n",
       "      <td>26137</td>\n",
       "      <td>[S8WA00194, H2WA01054]</td>\n",
       "      <td>kg:/m/01x68t</td>\n",
       "      <td>300018</td>\n",
       "      <td>...</td>\n",
       "      <td>senatorcantwell</td>\n",
       "      <td>NaN</td>\n",
       "      <td>NaN</td>\n",
       "      <td>SenatorCantwell</td>\n",
       "      <td>117501995</td>\n",
       "      <td>SenatorCantwell</td>\n",
       "      <td>UCN52UDqKgvHRk39ncySrIMw</td>\n",
       "      <td>300018</td>\n",
       "      <td>00172</td>\n",
       "      <td>[{u'city': u'Everett', u'fax': u'425-303-8351'...</td>\n",
       "    </tr>\n",
       "    <tr>\n",
       "      <th>2</th>\n",
       "      <td>1943-10-05</td>\n",
       "      <td>M</td>\n",
       "      <td>Jewish</td>\n",
       "      <td>NaN</td>\n",
       "      <td>Ben Cardin</td>\n",
       "      <td>C000141</td>\n",
       "      <td>4004</td>\n",
       "      <td>[H6MD03177, S6MD03177]</td>\n",
       "      <td>kg:/m/025k3k</td>\n",
       "      <td>400064</td>\n",
       "      <td>...</td>\n",
       "      <td>senatorbencardin</td>\n",
       "      <td>senatorcardin</td>\n",
       "      <td>NaN</td>\n",
       "      <td>SenatorCardin</td>\n",
       "      <td>109071031</td>\n",
       "      <td>senatorcardin</td>\n",
       "      <td>UCiQaJnMzlfzzG3VESgyZChA</td>\n",
       "      <td>400064</td>\n",
       "      <td>00174</td>\n",
       "      <td>[{u'building': u'Tower 1', u'city': u'Baltimor...</td>\n",
       "    </tr>\n",
       "    <tr>\n",
       "      <th>3</th>\n",
       "      <td>1947-01-23</td>\n",
       "      <td>M</td>\n",
       "      <td>Presbyterian</td>\n",
       "      <td>NaN</td>\n",
       "      <td>Tom Carper</td>\n",
       "      <td>C000174</td>\n",
       "      <td>663</td>\n",
       "      <td>[S8DE00079]</td>\n",
       "      <td>kg:/m/01xw7t</td>\n",
       "      <td>300019</td>\n",
       "      <td>...</td>\n",
       "      <td>tomcarper</td>\n",
       "      <td>NaN</td>\n",
       "      <td>NaN</td>\n",
       "      <td>SenatorCarper</td>\n",
       "      <td>249787913</td>\n",
       "      <td>senatorcarper</td>\n",
       "      <td>UCgLnvbKwu4B3navofj6Qvvw</td>\n",
       "      <td>300019</td>\n",
       "      <td>00179</td>\n",
       "      <td>[{u'city': u'Dover', u'fax': u'302-674-5464', ...</td>\n",
       "    </tr>\n",
       "    <tr>\n",
       "      <th>4</th>\n",
       "      <td>1960-04-13</td>\n",
       "      <td>M</td>\n",
       "      <td>NaN</td>\n",
       "      <td>NaN</td>\n",
       "      <td>Bob Casey, Jr.</td>\n",
       "      <td>C001070</td>\n",
       "      <td>47036</td>\n",
       "      <td>[S6PA00217]</td>\n",
       "      <td>kg:/m/047ymw</td>\n",
       "      <td>412246</td>\n",
       "      <td>...</td>\n",
       "      <td>SenatorBobCasey</td>\n",
       "      <td>senbobcasey</td>\n",
       "      <td>NaN</td>\n",
       "      <td>SenBobCasey</td>\n",
       "      <td>171598736</td>\n",
       "      <td>SenatorBobCasey</td>\n",
       "      <td>UCtVssXhx-KuZa-hSvnsnJ0A</td>\n",
       "      <td>412246</td>\n",
       "      <td>01828</td>\n",
       "      <td>[{u'city': u'Allentown', u'fax': u'610-782-947...</td>\n",
       "    </tr>\n",
       "  </tbody>\n",
       "</table>\n",
       "<p>5 rows × 40 columns</p>\n",
       "</div>"
      ],
      "text/plain": [
       "  bio.birthday bio.gender    bio.religion family  id.ballotpedia id.bioguide  \\\n",
       "0   1952-11-09          M        Lutheran    NaN   Sherrod Brown     B000944   \n",
       "1   1958-10-13          F  Roman Catholic    NaN  Maria Cantwell     C000127   \n",
       "2   1943-10-05          M          Jewish    NaN      Ben Cardin     C000141   \n",
       "3   1947-01-23          M    Presbyterian    NaN      Tom Carper     C000174   \n",
       "4   1960-04-13          M             NaN    NaN  Bob Casey, Jr.     C001070   \n",
       "\n",
       "   id.cspan                  id.fec id.google_entity_id  id.govtrack_x  \\\n",
       "0      5051  [H2OH13033, S6OH00163]        kg:/m/034s80         400050   \n",
       "1     26137  [S8WA00194, H2WA01054]        kg:/m/01x68t         300018   \n",
       "2      4004  [H6MD03177, S6MD03177]        kg:/m/025k3k         400064   \n",
       "3       663             [S8DE00079]        kg:/m/01xw7t         300019   \n",
       "4     47036             [S6PA00217]        kg:/m/047ymw         412246   \n",
       "\n",
       "                         ...                              social.facebook  \\\n",
       "0                        ...                          SenatorSherrodBrown   \n",
       "1                        ...                              senatorcantwell   \n",
       "2                        ...                             senatorbencardin   \n",
       "3                        ...                                    tomcarper   \n",
       "4                        ...                              SenatorBobCasey   \n",
       "\n",
       "   social.instagram social.instagram_id   social.twitter social.twitter_id  \\\n",
       "0               NaN                 NaN  SenSherrodBrown          43910797   \n",
       "1               NaN                 NaN  SenatorCantwell         117501995   \n",
       "2     senatorcardin                 NaN    SenatorCardin         109071031   \n",
       "3               NaN                 NaN    SenatorCarper         249787913   \n",
       "4       senbobcasey                 NaN      SenBobCasey         171598736   \n",
       "\n",
       "     social.youtube         social.youtube_id id.govtrack id.thomas  \\\n",
       "0  SherrodBrownOhio  UCgy8jfERh-t_ixkKKoCmglQ      400050     00136   \n",
       "1   SenatorCantwell  UCN52UDqKgvHRk39ncySrIMw      300018     00172   \n",
       "2     senatorcardin  UCiQaJnMzlfzzG3VESgyZChA      400064     00174   \n",
       "3     senatorcarper  UCgLnvbKwu4B3navofj6Qvvw      300019     00179   \n",
       "4   SenatorBobCasey  UCtVssXhx-KuZa-hSvnsnJ0A      412246     01828   \n",
       "\n",
       "                                             offices  \n",
       "0  [{u'city': u'Cincinnati', u'fax': u'513-684-10...  \n",
       "1  [{u'city': u'Everett', u'fax': u'425-303-8351'...  \n",
       "2  [{u'building': u'Tower 1', u'city': u'Baltimor...  \n",
       "3  [{u'city': u'Dover', u'fax': u'302-674-5464', ...  \n",
       "4  [{u'city': u'Allentown', u'fax': u'610-782-947...  \n",
       "\n",
       "[5 rows x 40 columns]"
      ]
     },
     "execution_count": 7,
     "metadata": {},
     "output_type": "execute_result"
    }
   ],
   "source": [
    "\n",
    "with open('legislators/legislators-current.yaml', 'r') as f:\n",
    "    current = pd.io.json.json_normalize(yaml.load(f))\n",
    "\n",
    "legislators = current.merge(social, on='id.bioguide').merge(districts, on='id.bioguide')\n",
    "\n",
    "legislators.head()\n"
   ]
  },
  {
   "cell_type": "markdown",
   "metadata": {},
   "source": [
    "For each congress member, let's extract the party and state information from the most recent term."
   ]
  },
  {
   "cell_type": "code",
   "execution_count": 8,
   "metadata": {
    "collapsed": false
   },
   "outputs": [],
   "source": [
    "def most_recent(terms, term_feature):\n",
    "    terms.sort(key=lambda t: t['end'], reverse=True)\n",
    "    return terms[0][term_feature]\n",
    "\n",
    "legislators['party'] = legislators.apply(lambda m: most_recent(m['terms'], 'party'), axis=1)\n",
    "legislators['state'] = legislators.apply(lambda m: most_recent(m['terms'], 'state'), axis=1)\n"
   ]
  },
  {
   "cell_type": "markdown",
   "metadata": {},
   "source": [
    "At the end, this is what we have in legislators data."
   ]
  },
  {
   "cell_type": "code",
   "execution_count": 9,
   "metadata": {
    "collapsed": false,
    "scrolled": false
   },
   "outputs": [
    {
     "data": {
      "text/plain": [
       "Index([u'bio.birthday', u'bio.gender', u'bio.religion', u'family',\n",
       "       u'id.ballotpedia', u'id.bioguide', u'id.cspan', u'id.fec',\n",
       "       u'id.google_entity_id', u'id.govtrack_x', u'id.house_history',\n",
       "       u'id.icpsr', u'id.lis', u'id.maplight', u'id.opensecrets',\n",
       "       u'id.thomas_x', u'id.votesmart', u'id.wikidata', u'id.wikipedia',\n",
       "       u'leadership_roles', u'name.first', u'name.last', u'name.middle',\n",
       "       u'name.nickname', u'name.official_full', u'name.suffix', u'other_names',\n",
       "       u'terms', u'id.govtrack_y', u'id.thomas_y', u'social.facebook',\n",
       "       u'social.instagram', u'social.instagram_id', u'social.twitter',\n",
       "       u'social.twitter_id', u'social.youtube', u'social.youtube_id',\n",
       "       u'id.govtrack', u'id.thomas', u'offices', u'party', u'state'],\n",
       "      dtype='object')"
      ]
     },
     "execution_count": 9,
     "metadata": {},
     "output_type": "execute_result"
    }
   ],
   "source": [
    "legislators.columns"
   ]
  },
  {
   "cell_type": "markdown",
   "metadata": {},
   "source": [
    "Going back to tweet dataset, let's find the most active Congress members on Twitter."
   ]
  },
  {
   "cell_type": "code",
   "execution_count": 10,
   "metadata": {
    "collapsed": false
   },
   "outputs": [
    {
     "data": {
      "text/plain": [
       "auctnr1         5545\n",
       "RepThompson     3063\n",
       "RepDonBeyer     2135\n",
       "RepJayapal      1770\n",
       "RepCloakroom    1590\n",
       "dtype: int64"
      ]
     },
     "execution_count": 10,
     "metadata": {},
     "output_type": "execute_result"
    }
   ],
   "source": [
    "tweet_counts = tweets['screen_name'].value_counts()\n",
    "tweet_counts.head()"
   ]
  },
  {
   "cell_type": "markdown",
   "metadata": {},
   "source": [
    "Unfortunately, this contains only the Twitter username and the tweet counts. Let's merge the twitter dataset with the legislator dataset to get names, state and party for the Congress members that are highly active on Twitter."
   ]
  },
  {
   "cell_type": "code",
   "execution_count": 11,
   "metadata": {
    "collapsed": false,
    "scrolled": true
   },
   "outputs": [
    {
     "name": "stderr",
     "output_type": "stream",
     "text": [
      "/Library/Python/2.7/site-packages/pandas/core/index.py:805: FutureWarning: scalar indexers for index type Index should be integers and not floating point\n",
      "  type(self).__name__),FutureWarning)\n"
     ]
    },
    {
     "data": {
      "text/html": [
       "<div>\n",
       "<table border=\"1\" class=\"dataframe\">\n",
       "  <thead>\n",
       "    <tr style=\"text-align: right;\">\n",
       "      <th></th>\n",
       "      <th>name.last</th>\n",
       "      <th>name.first</th>\n",
       "      <th>tweet_count</th>\n",
       "      <th>state</th>\n",
       "      <th>party</th>\n",
       "    </tr>\n",
       "  </thead>\n",
       "  <tbody>\n",
       "    <tr>\n",
       "      <th>290</th>\n",
       "      <td>Thompson</td>\n",
       "      <td>Mike</td>\n",
       "      <td>3063</td>\n",
       "      <td>CA</td>\n",
       "      <td>Democrat</td>\n",
       "    </tr>\n",
       "    <tr>\n",
       "      <th>529</th>\n",
       "      <td>Jayapal</td>\n",
       "      <td>Pramila</td>\n",
       "      <td>1770</td>\n",
       "      <td>WA</td>\n",
       "      <td>Democrat</td>\n",
       "    </tr>\n",
       "    <tr>\n",
       "      <th>249</th>\n",
       "      <td>Ros-Lehtinen</td>\n",
       "      <td>Ileana</td>\n",
       "      <td>1200</td>\n",
       "      <td>FL</td>\n",
       "      <td>Republican</td>\n",
       "    </tr>\n",
       "    <tr>\n",
       "      <th>474</th>\n",
       "      <td>Evans</td>\n",
       "      <td>Dwight</td>\n",
       "      <td>984</td>\n",
       "      <td>PA</td>\n",
       "      <td>Democrat</td>\n",
       "    </tr>\n",
       "    <tr>\n",
       "      <th>483</th>\n",
       "      <td>Khanna</td>\n",
       "      <td>Ro</td>\n",
       "      <td>901</td>\n",
       "      <td>CA</td>\n",
       "      <td>Democrat</td>\n",
       "    </tr>\n",
       "    <tr>\n",
       "      <th>21</th>\n",
       "      <td>Cornyn</td>\n",
       "      <td>John</td>\n",
       "      <td>859</td>\n",
       "      <td>TX</td>\n",
       "      <td>Republican</td>\n",
       "    </tr>\n",
       "    <tr>\n",
       "      <th>27</th>\n",
       "      <td>Merkley</td>\n",
       "      <td>Jeff</td>\n",
       "      <td>840</td>\n",
       "      <td>OR</td>\n",
       "      <td>Democrat</td>\n",
       "    </tr>\n",
       "    <tr>\n",
       "      <th>515</th>\n",
       "      <td>Kihuen</td>\n",
       "      <td>Ruben</td>\n",
       "      <td>823</td>\n",
       "      <td>NV</td>\n",
       "      <td>Democrat</td>\n",
       "    </tr>\n",
       "    <tr>\n",
       "      <th>391</th>\n",
       "      <td>Castro</td>\n",
       "      <td>Joaquin</td>\n",
       "      <td>820</td>\n",
       "      <td>TX</td>\n",
       "      <td>Democrat</td>\n",
       "    </tr>\n",
       "    <tr>\n",
       "      <th>517</th>\n",
       "      <td>Espaillat</td>\n",
       "      <td>Adriano</td>\n",
       "      <td>815</td>\n",
       "      <td>NY</td>\n",
       "      <td>Democrat</td>\n",
       "    </tr>\n",
       "  </tbody>\n",
       "</table>\n",
       "</div>"
      ],
      "text/plain": [
       "        name.last name.first  tweet_count state       party\n",
       "290      Thompson       Mike         3063    CA    Democrat\n",
       "529       Jayapal    Pramila         1770    WA    Democrat\n",
       "249  Ros-Lehtinen     Ileana         1200    FL  Republican\n",
       "474         Evans     Dwight          984    PA    Democrat\n",
       "483        Khanna         Ro          901    CA    Democrat\n",
       "21         Cornyn       John          859    TX  Republican\n",
       "27        Merkley       Jeff          840    OR    Democrat\n",
       "515        Kihuen      Ruben          823    NV    Democrat\n",
       "391        Castro    Joaquin          820    TX    Democrat\n",
       "517     Espaillat    Adriano          815    NY    Democrat"
      ]
     },
     "execution_count": 11,
     "metadata": {},
     "output_type": "execute_result"
    }
   ],
   "source": [
    "legislators['tweet_count'] = legislators.apply(lambda leg: tweet_counts.get(leg['social.twitter'], 0.), axis=1)\n",
    "\n",
    "legislators[['name.last', 'name.first', 'tweet_count', 'state', 'party']].sort('tweet_count', ascending=False).head(n=10)\n"
   ]
  },
  {
   "cell_type": "markdown",
   "metadata": {},
   "source": [
    "Let's look at the Twitter activity on a state level by averaging the number of tweets from congress members on each state. We can see that [Rhode Island](https://www.govtrack.us/congress/members/RI), [Vermont](https://www.govtrack.us/congress/members/VT) and [Washington](https://www.govtrack.us/congress/members/WA) Congress members are the most active ones on average."
   ]
  },
  {
   "cell_type": "code",
   "execution_count": 12,
   "metadata": {
    "collapsed": false
   },
   "outputs": [],
   "source": [
    "tweet_state = legislators.groupby('state')['tweet_count'].mean()\n",
    "\n",
    "tweet_state.sort('tweet_count', ascending=False)"
   ]
  },
  {
   "cell_type": "markdown",
   "metadata": {},
   "source": [
    "Let's plot the data over the US map to interactively see states and their Congress members' Twitter activity."
   ]
  },
  {
   "cell_type": "code",
   "execution_count": 36,
   "metadata": {
    "collapsed": false,
    "scrolled": false
   },
   "outputs": [
    {
     "data": {
      "image/png": "[encoded data removed]",
      "text/plain": [
       "<IPython.core.display.Image object>"
      ]
     },
     "execution_count": 36,
     "metadata": {},
     "output_type": "execute_result"
    }
   ],
   "source": [
    "import plotly.plotly as py\n",
    "\n",
    "\n",
    "data = [ dict(\n",
    "        type='choropleth',\n",
    "\n",
    "        locations = tweet_state.index,\n",
    "        z = tweet_state,\n",
    "        locationmode = 'USA-states',\n",
    "        colorbar = dict(\n",
    "            title = \"mean tweet count\"\n",
    "        )\n",
    "        )]\n",
    "\n",
    "layout = dict(\n",
    "        title = 'Average number of tweets (from July 21 to Oct 27, 2017) per Congress member by state',\n",
    "        geo = dict(\n",
    "            scope='usa',\n",
    "            projection=dict( type='albers usa' ),\n",
    "            showlakes = True,\n",
    "            lakecolor = 'rgb(255, 255, 255)'),\n",
    "             )\n",
    "    \n",
    "fig = go.Figure(data=data, layout=layout)\n",
    "py.image.save_as(fig, filename='map.png')\n",
    "from IPython.display import Image\n",
    "Image('map.png')"
   ]
  },
  {
   "cell_type": "markdown",
   "metadata": {},
   "source": [
    "When we look at the average tweet count by party, we see that Democrats are much more active than Republicans, but not as much as independent legislators."
   ]
  },
  {
   "cell_type": "code",
   "execution_count": 14,
   "metadata": {
    "collapsed": false
   },
   "outputs": [
    {
     "data": {
      "text/plain": [
       "party\n",
       "Democrat       251.674897\n",
       "Independent    333.500000\n",
       "Republican     143.549828\n",
       "Name: tweet_count, dtype: float64"
      ]
     },
     "execution_count": 14,
     "metadata": {},
     "output_type": "execute_result"
    }
   ],
   "source": [
    "legislators.groupby('party')['tweet_count'].mean()"
   ]
  },
  {
   "cell_type": "markdown",
   "metadata": {},
   "source": [
    "Finally, let's look at the average sentiment on a given day for Democratic Party and Republican Party."
   ]
  },
  {
   "cell_type": "code",
   "execution_count": 15,
   "metadata": {
    "collapsed": false
   },
   "outputs": [],
   "source": [
    "# sentiment over time by party\n",
    "\n",
    "tdf = tweets.merge(legislators, left_on='screen_name', right_on='social.twitter')\n",
    "\n",
    "sentiment_pt = {'positive': 1, 'neutral': 0, 'negative': -1}\n",
    "\n",
    "tdf['sentiment_pt'] = tdf.apply(lambda t: sentiment_pt[t['sentiment']], axis=1)\n",
    "tdf['time'] = pd.to_datetime(tdf['time'])\n",
    "tdf['just_date'] = tdf['time'].dt.date\n",
    "\n",
    "rep = tdf[tdf['party'] == 'Republican']\n",
    "dem = tdf[tdf['party'] == 'Democrat']\n",
    "ind = tdf[tdf['party'] == 'Independent']\n"
   ]
  },
  {
   "cell_type": "markdown",
   "metadata": {},
   "source": [
    "Let's plot how the Twitter sentiment changes over time for both political parties."
   ]
  },
  {
   "cell_type": "code",
   "execution_count": 37,
   "metadata": {
    "collapsed": false
   },
   "outputs": [
    {
     "data": {
      "image/png": "[encoded data removed]",
      "text/plain": [
       "<IPython.core.display.Image object>"
      ]
     },
     "execution_count": 37,
     "metadata": {},
     "output_type": "execute_result"
    }
   ],
   "source": [
    "import plotly.graph_objs as go\n",
    "\n",
    "rep_avg = rep.groupby('just_date', as_index=False)['sentiment_pt'].mean()\n",
    "dem_avg = dem.groupby('just_date', as_index=False)['sentiment_pt'].mean()\n",
    "data = [\n",
    "    go.Scatter(x=rep_avg['just_date'], y=rep_avg['sentiment_pt'], mode='lines+markers', \n",
    "               marker={'color': 'red'},\n",
    "               line={'color': 'red'},\n",
    "               name=\"republican\"),\n",
    "    go.Scatter(x=dem_avg['just_date'], y=dem_avg['sentiment_pt'], mode='lines+markers',\n",
    "               marker={'color': 'blue'},\n",
    "               line={'color': 'blue'},\n",
    "               name=\"democrat\"),\n",
    "]\n",
    "\n",
    "fig = go.Figure(data=data,\n",
    "                layout=go.Layout(autosize=True, title='Average sentiment polarity over time by political party afilliation')\n",
    "                )\n",
    "py.image.save_as(fig, filename='sentiment.png')\n",
    "from IPython.display import Image\n",
    "Image('sentiment.png')"
   ]
  },
  {
   "cell_type": "markdown",
   "metadata": {},
   "source": [
    "Although the data requires more in-depth analysis, there are few interesting observations we can make. The tweets are usually positive; however, there are significant drops on the average sentiment on particular days.\n",
    "\n",
    "For example, over the last week of July, we see that a Democratic Congress member tweet is more negative than a Republican Congress member one. The negative Democratic sentiment starts on July 25 when [Senate decided to begin debating health-care legislation](http://www.npr.org/2017/07/25/539334328/senate-scores-narrow-win-in-effort-to-dismantle-affordable-care-act).\n",
    "\n",
    "There is a very sharp drops on sentiment on August 12th and October 2nd, mostly for both sides which aligns perfectly with [the violance during Charlottesville \"Unite the Right\" rally](http://www.cnn.com/2017/08/12/us/charlottesville-white-nationalists-rally/index.html) and [Las Vegas shooting](https://en.wikipedia.org/wiki/2017_Las_Vegas_shooting).\n",
    "\n",
    "Finally, there is a big difference on Sept 26 when [the Senate decided not to vote on the Graham-Cassidy bill to repeal Obamacare](http://www.cnn.com/2017/09/26/politics/health-care-republican-senate-vote/index.html), where average Republican tweet is much more negative than a Democratic one. "
   ]
  }
 ],
 "metadata": {
  "kernelspec": {
   "display_name": "Python 2",
   "language": "python",
   "name": "python2"
  },
  "language_info": {
   "codemirror_mode": {
    "name": "ipython",
    "version": 2
   },
   "file_extension": ".py",
   "mimetype": "text/x-python",
   "name": "python",
   "nbconvert_exporter": "python",
   "pygments_lexer": "ipython2",
   "version": "2.7.10"
  }
 },
 "nbformat": 4,
 "nbformat_minor": 0
}
